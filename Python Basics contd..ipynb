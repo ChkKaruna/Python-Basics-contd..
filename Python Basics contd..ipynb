{
 "cells": [
  {
   "cell_type": "markdown",
   "id": "c8a9ba8d",
   "metadata": {},
   "source": [
    "# Python Basics contd.. : examples of in-built functions"
   ]
  },
  {
   "cell_type": "markdown",
   "id": "38f56aef",
   "metadata": {},
   "source": [
    "integer -> whole number (1,2,3,1000)"
   ]
  },
  {
   "cell_type": "markdown",
   "id": "867e803e",
   "metadata": {},
   "source": [
    "float -> decimal values (1.3,0.3,0.003)"
   ]
  },
  {
   "cell_type": "markdown",
   "id": "8ce360a4",
   "metadata": {},
   "source": [
    "string -> ordered sequence of char(\"s\",360, True, False)"
   ]
  },
  {
   "cell_type": "code",
   "execution_count": 2,
   "id": "122f132c",
   "metadata": {},
   "outputs": [
    {
     "name": "stdout",
     "output_type": "stream",
     "text": [
      "23\n"
     ]
    }
   ],
   "source": [
    "print(23) # integer"
   ]
  },
  {
   "cell_type": "code",
   "execution_count": 3,
   "id": "b00f013e",
   "metadata": {},
   "outputs": [
    {
     "name": "stdout",
     "output_type": "stream",
     "text": [
      "Python session\n"
     ]
    }
   ],
   "source": [
    "print(\"Python session\") # string"
   ]
  },
  {
   "cell_type": "markdown",
   "id": "5a19512a",
   "metadata": {},
   "source": [
    "#### Mathematical Operators"
   ]
  },
  {
   "cell_type": "code",
   "execution_count": 4,
   "id": "ceed11e8",
   "metadata": {},
   "outputs": [
    {
     "data": {
      "text/plain": [
       "6"
      ]
     },
     "execution_count": 4,
     "metadata": {},
     "output_type": "execute_result"
    }
   ],
   "source": [
    "2+4"
   ]
  },
  {
   "cell_type": "code",
   "execution_count": 5,
   "id": "81268f7b",
   "metadata": {},
   "outputs": [
    {
     "data": {
      "text/plain": [
       "-2"
      ]
     },
     "execution_count": 5,
     "metadata": {},
     "output_type": "execute_result"
    }
   ],
   "source": [
    "2-4"
   ]
  },
  {
   "cell_type": "markdown",
   "id": "65d59e9d",
   "metadata": {},
   "source": [
    "#### Variable declaration # we declare variable to store output value"
   ]
  },
  {
   "cell_type": "code",
   "execution_count": 6,
   "id": "6ca11656",
   "metadata": {},
   "outputs": [
    {
     "name": "stdout",
     "output_type": "stream",
     "text": [
      "9\n"
     ]
    }
   ],
   "source": [
    "x = 4\n",
    "y = 5\n",
    "z = x+y\n",
    "print(z)"
   ]
  },
  {
   "cell_type": "code",
   "execution_count": 7,
   "id": "87b715a0",
   "metadata": {},
   "outputs": [
    {
     "data": {
      "text/plain": [
       "int"
      ]
     },
     "execution_count": 7,
     "metadata": {},
     "output_type": "execute_result"
    }
   ],
   "source": [
    "type(z) # checking data type"
   ]
  },
  {
   "cell_type": "code",
   "execution_count": 8,
   "id": "cb126864",
   "metadata": {},
   "outputs": [
    {
     "data": {
      "text/plain": [
       "float"
      ]
     },
     "execution_count": 8,
     "metadata": {},
     "output_type": "execute_result"
    }
   ],
   "source": [
    "a = 1.2\n",
    "type(a)"
   ]
  },
  {
   "cell_type": "code",
   "execution_count": 9,
   "id": "a1867233",
   "metadata": {},
   "outputs": [
    {
     "data": {
      "text/plain": [
       "str"
      ]
     },
     "execution_count": 9,
     "metadata": {},
     "output_type": "execute_result"
    }
   ],
   "source": [
    "al = 'python'\n",
    "type(al)"
   ]
  },
  {
   "cell_type": "markdown",
   "id": "5f58e8ea",
   "metadata": {},
   "source": [
    "#### Complex Number"
   ]
  },
  {
   "cell_type": "code",
   "execution_count": 10,
   "id": "7711503d",
   "metadata": {},
   "outputs": [
    {
     "data": {
      "text/plain": [
       "complex"
      ]
     },
     "execution_count": 10,
     "metadata": {},
     "output_type": "execute_result"
    }
   ],
   "source": [
    "cmpl = 2+3j\n",
    "type(cmpl)"
   ]
  },
  {
   "cell_type": "markdown",
   "id": "b680266c",
   "metadata": {},
   "source": [
    "#### Boolean Type"
   ]
  },
  {
   "cell_type": "code",
   "execution_count": 11,
   "id": "4931cc64",
   "metadata": {},
   "outputs": [
    {
     "data": {
      "text/plain": [
       "bool"
      ]
     },
     "execution_count": 11,
     "metadata": {},
     "output_type": "execute_result"
    }
   ],
   "source": [
    "type(True)"
   ]
  },
  {
   "cell_type": "code",
   "execution_count": 12,
   "id": "1f3541de",
   "metadata": {},
   "outputs": [
    {
     "data": {
      "text/plain": [
       "bool"
      ]
     },
     "execution_count": 12,
     "metadata": {},
     "output_type": "execute_result"
    }
   ],
   "source": [
    "type(False)"
   ]
  },
  {
   "cell_type": "code",
   "execution_count": 13,
   "id": "a8ec9629",
   "metadata": {},
   "outputs": [
    {
     "ename": "SyntaxError",
     "evalue": "invalid syntax (<ipython-input-13-8bcd8d52f019>, line 1)",
     "output_type": "error",
     "traceback": [
      "\u001b[1;36m  File \u001b[1;32m\"<ipython-input-13-8bcd8d52f019>\"\u001b[1;36m, line \u001b[1;32m1\u001b[0m\n\u001b[1;33m    cmpl = 2+3H  #alphabet cannot be capital\u001b[0m\n\u001b[1;37m              ^\u001b[0m\n\u001b[1;31mSyntaxError\u001b[0m\u001b[1;31m:\u001b[0m invalid syntax\n"
     ]
    }
   ],
   "source": [
    "cmpl = 2+3H  #alphabet cannot be capital\n",
    "type(cmpl)"
   ]
  },
  {
   "cell_type": "markdown",
   "id": "128a78b1",
   "metadata": {},
   "source": [
    "#### String"
   ]
  },
  {
   "cell_type": "code",
   "execution_count": 15,
   "id": "32514057",
   "metadata": {},
   "outputs": [],
   "source": [
    "a = \"This is introduction to Python session\""
   ]
  },
  {
   "cell_type": "code",
   "execution_count": 16,
   "id": "9ee01bac",
   "metadata": {},
   "outputs": [
    {
     "name": "stdout",
     "output_type": "stream",
     "text": [
      "This is introduction to Python session\n"
     ]
    }
   ],
   "source": [
    "print(a)"
   ]
  },
  {
   "cell_type": "code",
   "execution_count": 17,
   "id": "245495ca",
   "metadata": {},
   "outputs": [
    {
     "data": {
      "text/plain": [
       "str"
      ]
     },
     "execution_count": 17,
     "metadata": {},
     "output_type": "execute_result"
    }
   ],
   "source": [
    "type(a)"
   ]
  },
  {
   "cell_type": "code",
   "execution_count": 18,
   "id": "570148d0",
   "metadata": {},
   "outputs": [
    {
     "data": {
      "text/plain": [
       "38"
      ]
     },
     "execution_count": 18,
     "metadata": {},
     "output_type": "execute_result"
    }
   ],
   "source": [
    "len(a) #spaces are also counted in length, index in python starts from 0"
   ]
  },
  {
   "cell_type": "code",
   "execution_count": 19,
   "id": "1bf52c15",
   "metadata": {},
   "outputs": [
    {
     "name": "stdout",
     "output_type": "stream",
     "text": [
      "T\n"
     ]
    }
   ],
   "source": [
    "print(a[0])"
   ]
  },
  {
   "cell_type": "code",
   "execution_count": 20,
   "id": "3430cc47",
   "metadata": {},
   "outputs": [
    {
     "name": "stdout",
     "output_type": "stream",
     "text": [
      "s\n"
     ]
    }
   ],
   "source": [
    "print(a[3])"
   ]
  },
  {
   "cell_type": "code",
   "execution_count": 21,
   "id": "bf397cd1",
   "metadata": {},
   "outputs": [
    {
     "name": "stdout",
     "output_type": "stream",
     "text": [
      "his \n"
     ]
    }
   ],
   "source": [
    "print(a[1:5]) # the last no. is not taken in range"
   ]
  },
  {
   "cell_type": "code",
   "execution_count": 22,
   "id": "4ae1985f",
   "metadata": {},
   "outputs": [
    {
     "name": "stdout",
     "output_type": "stream",
     "text": [
      "his i\n"
     ]
    }
   ],
   "source": [
    "print(a[1:6])"
   ]
  },
  {
   "cell_type": "code",
   "execution_count": 23,
   "id": "b79d90c6",
   "metadata": {},
   "outputs": [
    {
     "name": "stdout",
     "output_type": "stream",
     "text": [
      "n\n"
     ]
    }
   ],
   "source": [
    "print(a[-1])"
   ]
  },
  {
   "cell_type": "code",
   "execution_count": 24,
   "id": "b008b7a6",
   "metadata": {},
   "outputs": [
    {
     "name": "stdout",
     "output_type": "stream",
     "text": [
      "io\n"
     ]
    }
   ],
   "source": [
    "print(a[-3:-1]) #here it is taking from last index value"
   ]
  },
  {
   "cell_type": "markdown",
   "id": "93df0ded",
   "metadata": {},
   "source": [
    "### String Manipulation"
   ]
  },
  {
   "cell_type": "code",
   "execution_count": 26,
   "id": "662716aa",
   "metadata": {},
   "outputs": [
    {
     "ename": "TypeError",
     "evalue": "can only concatenate str (not \"int\") to str",
     "output_type": "error",
     "traceback": [
      "\u001b[1;31m---------------------------------------------------------------------------\u001b[0m",
      "\u001b[1;31mTypeError\u001b[0m                                 Traceback (most recent call last)",
      "\u001b[1;32m<ipython-input-26-033c77b4dbc2>\u001b[0m in \u001b[0;36m<module>\u001b[1;34m\u001b[0m\n\u001b[0;32m      1\u001b[0m \u001b[0mi\u001b[0m \u001b[1;33m=\u001b[0m \u001b[1;36m1\u001b[0m\u001b[1;33m\u001b[0m\u001b[1;33m\u001b[0m\u001b[0m\n\u001b[1;32m----> 2\u001b[1;33m \u001b[0ma1\u001b[0m \u001b[1;33m=\u001b[0m \u001b[1;33m(\u001b[0m\u001b[1;34m\"this is python session\"\u001b[0m \u001b[1;33m+\u001b[0m \u001b[1;33m(\u001b[0m\u001b[0mi\u001b[0m\u001b[1;33m)\u001b[0m \u001b[1;33m+\u001b[0m \u001b[1;34m\"to you\"\u001b[0m\u001b[1;33m)\u001b[0m \u001b[1;31m# its throwing error coz here i contains the int value and not string\u001b[0m\u001b[1;33m\u001b[0m\u001b[1;33m\u001b[0m\u001b[0m\n\u001b[0m",
      "\u001b[1;31mTypeError\u001b[0m: can only concatenate str (not \"int\") to str"
     ]
    }
   ],
   "source": [
    "i = 1\n",
    "a1 = (\"this is python session\" + (i) + \"to you\") # its throwing error coz here i contains the int value and not string"
   ]
  },
  {
   "cell_type": "code",
   "execution_count": null,
   "id": "4dd5378c",
   "metadata": {},
   "outputs": [],
   "source": [
    "i = 1\n",
    "a1 = (\"this is python session \" + str(i) + \" to you\")  # converting i to string data type will accept the value\n",
    "print(a1)"
   ]
  },
  {
   "cell_type": "code",
   "execution_count": null,
   "id": "3515fe7e",
   "metadata": {},
   "outputs": [],
   "source": [
    "i = input(\"pls enter the session number\")\n",
    "a1 = (\"this is python session \"+ str(i) + \" to you\")\n",
    "print(a1)"
   ]
  },
  {
   "cell_type": "code",
   "execution_count": null,
   "id": "89a01099",
   "metadata": {},
   "outputs": [],
   "source": [
    "i1 = input(\"\")\n",
    "print(i1)"
   ]
  },
  {
   "cell_type": "code",
   "execution_count": null,
   "id": "6e7d3141",
   "metadata": {},
   "outputs": [],
   "source": [
    "i1 = input(\"plz enter the session number : \")   # here int is stopping user to enter strings but only enter integer values.\n",
    "a11 = (\"this is python session \"+ str(i1) + \" to you\")\n",
    "print(a11)"
   ]
  },
  {
   "cell_type": "code",
   "execution_count": null,
   "id": "e37d433f",
   "metadata": {},
   "outputs": [],
   "source": [
    "i1 = int(input(\"plz enter the session number : \"))\n",
    "a11 = (\"this is python session \"+ str(i1) + \" to you\")\n",
    "print(a11)"
   ]
  },
  {
   "cell_type": "code",
   "execution_count": 27,
   "id": "26075c1b",
   "metadata": {},
   "outputs": [
    {
     "name": "stdout",
     "output_type": "stream",
     "text": [
      "plz enter the session number : 999\n",
      "this is python session 999 to you\n"
     ]
    }
   ],
   "source": [
    "i1 = int(input(\"plz enter the session number : \"))\n",
    "a11 = (\"this is python session \"+ str(i1) + \" to you\")\n",
    "print(a11)"
   ]
  },
  {
   "cell_type": "code",
   "execution_count": 28,
   "id": "60e58502",
   "metadata": {},
   "outputs": [
    {
     "name": "stdout",
     "output_type": "stream",
     "text": [
      "Please enter your name : Karuna\n",
      " Please enter your session No. 9999\n",
      "This is Karuna and this is python session No.9999 to you\n"
     ]
    }
   ],
   "source": [
    "name = str(input(\"Please enter your name : \"))\n",
    "session = int(input(\" Please enter your session No. \"))\n",
    "print(\"This is \"+name +\" and this is python session No.\"+ str(session) + \" to you\")  # here we are putting str with session to convert it to str from int as str and str can only be concatenated"
   ]
  },
  {
   "cell_type": "code",
   "execution_count": null,
   "id": "3d007c36",
   "metadata": {},
   "outputs": [],
   "source": []
  },
  {
   "cell_type": "code",
   "execution_count": 29,
   "id": "23b0c2a2",
   "metadata": {},
   "outputs": [
    {
     "name": "stdout",
     "output_type": "stream",
     "text": [
      "Please enter your Name : Karuna\n",
      " Please enter your session No. 9991\n",
      "This is Karuna and this is python session No. 9991 to you\n"
     ]
    }
   ],
   "source": [
    "name = str(input(\"Please enter your Name : \"))\n",
    "session = int(input(\" Please enter your session No. \"))\n",
    "print(\"This is {} and this is python session No. {} to you\".format(name,session))"
   ]
  },
  {
   "cell_type": "code",
   "execution_count": 30,
   "id": "3f1ec0ab",
   "metadata": {},
   "outputs": [
    {
     "name": "stdout",
     "output_type": "stream",
     "text": [
      "Please enter your Name : Karuna Singh\n",
      " Please enter your session No. 9998\n",
      "This is 9998 and this is python session No. Karuna Singh to you\n"
     ]
    }
   ],
   "source": [
    "name = str(input(\"Please enter your Name : \"))\n",
    "session = int(input(\" Please enter your session No. \"))\n",
    "print(\"This is {} and this is python session No. {} to you\".format(session,name))"
   ]
  },
  {
   "cell_type": "code",
   "execution_count": 31,
   "id": "8fcfb7a1",
   "metadata": {},
   "outputs": [
    {
     "name": "stdout",
     "output_type": "stream",
     "text": [
      "Please enter your Name : Karuna S\n",
      " Please enter your session No. 5899\n",
      "This is Karuna S and this is python session No. 5899 to you\n"
     ]
    }
   ],
   "source": [
    "name = str(input(\"Please enter your Name : \"))\n",
    "session = int(input(\" Please enter your session No. \"))\n",
    "print(\"This is {n} and this is python session No. {s} to you\".format(n=name,s=session))"
   ]
  },
  {
   "cell_type": "code",
   "execution_count": 32,
   "id": "5a7e048d",
   "metadata": {},
   "outputs": [],
   "source": [
    "a = \"this is introduction to Python session\""
   ]
  },
  {
   "cell_type": "code",
   "execution_count": 33,
   "id": "651010ee",
   "metadata": {},
   "outputs": [
    {
     "data": {
      "text/plain": [
       "'This is introduction to python session'"
      ]
     },
     "execution_count": 33,
     "metadata": {},
     "output_type": "execute_result"
    }
   ],
   "source": [
    "a.capitalize()"
   ]
  },
  {
   "cell_type": "code",
   "execution_count": 34,
   "id": "5e7747bc",
   "metadata": {},
   "outputs": [
    {
     "data": {
      "text/plain": [
       "'THIS IS INTRODUCTION TO PYTHON SESSION'"
      ]
     },
     "execution_count": 34,
     "metadata": {},
     "output_type": "execute_result"
    }
   ],
   "source": [
    "a2 = a.upper()\n",
    "a2"
   ]
  },
  {
   "cell_type": "code",
   "execution_count": 35,
   "id": "0aa955fe",
   "metadata": {},
   "outputs": [
    {
     "data": {
      "text/plain": [
       "'this is introduction to python session'"
      ]
     },
     "execution_count": 35,
     "metadata": {},
     "output_type": "execute_result"
    }
   ],
   "source": [
    "a3 = a2.lower()\n",
    "a3"
   ]
  },
  {
   "cell_type": "code",
   "execution_count": 36,
   "id": "2816797e",
   "metadata": {},
   "outputs": [
    {
     "data": {
      "text/plain": [
       "False"
      ]
     },
     "execution_count": 36,
     "metadata": {},
     "output_type": "execute_result"
    }
   ],
   "source": [
    "an = \"this is Karuna and this is python session No.2 to you\"\n",
    "an.isalnum() # The isalnum() returns True if all the characters are alphanumeric."
   ]
  },
  {
   "cell_type": "code",
   "execution_count": 37,
   "id": "2b7ea40e",
   "metadata": {},
   "outputs": [
    {
     "data": {
      "text/plain": [
       "False"
      ]
     },
     "execution_count": 37,
     "metadata": {},
     "output_type": "execute_result"
    }
   ],
   "source": [
    "anl = \"this is alpha 2\"\n",
    "anl.isalnum()"
   ]
  },
  {
   "cell_type": "code",
   "execution_count": 42,
   "id": "27a98922",
   "metadata": {},
   "outputs": [
    {
     "ename": "AttributeError",
     "evalue": "'tuple' object has no attribute 'isalnum'",
     "output_type": "error",
     "traceback": [
      "\u001b[1;31m---------------------------------------------------------------------------\u001b[0m",
      "\u001b[1;31mAttributeError\u001b[0m                            Traceback (most recent call last)",
      "\u001b[1;32m<ipython-input-42-91953d399452>\u001b[0m in \u001b[0;36m<module>\u001b[1;34m\u001b[0m\n\u001b[0;32m      1\u001b[0m \u001b[0manl\u001b[0m \u001b[1;33m=\u001b[0m \u001b[1;36m1\u001b[0m\u001b[1;33m,\u001b[0m\u001b[1;34m\"srtt\"\u001b[0m\u001b[1;33m\u001b[0m\u001b[1;33m\u001b[0m\u001b[0m\n\u001b[1;32m----> 2\u001b[1;33m \u001b[0manl\u001b[0m\u001b[1;33m.\u001b[0m\u001b[0misalnum\u001b[0m\u001b[1;33m(\u001b[0m\u001b[1;33m)\u001b[0m \u001b[1;31m# it doesn't work with Tuple\u001b[0m\u001b[1;33m\u001b[0m\u001b[1;33m\u001b[0m\u001b[0m\n\u001b[0m",
      "\u001b[1;31mAttributeError\u001b[0m: 'tuple' object has no attribute 'isalnum'"
     ]
    }
   ],
   "source": [
    "anl = 1,\"srtt\"\n",
    "anl.isalnum() # it doesn't work with Tuple"
   ]
  },
  {
   "cell_type": "code",
   "execution_count": 44,
   "id": "86e39781",
   "metadata": {},
   "outputs": [
    {
     "data": {
      "text/plain": [
       "str"
      ]
     },
     "execution_count": 44,
     "metadata": {},
     "output_type": "execute_result"
    }
   ],
   "source": [
    "anl1 = \"Max10\"\n",
    "type(anl1)"
   ]
  },
  {
   "cell_type": "code",
   "execution_count": 45,
   "id": "80545cf0",
   "metadata": {},
   "outputs": [
    {
     "data": {
      "text/plain": [
       "'this is Karuna and this is python session no.2 to you'"
      ]
     },
     "execution_count": 45,
     "metadata": {},
     "output_type": "execute_result"
    }
   ],
   "source": [
    "b = \"this is Karuna and this is python session no.2 to you\"\n",
    "b"
   ]
  },
  {
   "cell_type": "code",
   "execution_count": 46,
   "id": "4637683a",
   "metadata": {},
   "outputs": [
    {
     "data": {
      "text/plain": [
       "'this is Kammy and this is python session no.2 to you'"
      ]
     },
     "execution_count": 46,
     "metadata": {},
     "output_type": "execute_result"
    }
   ],
   "source": [
    "d = b.replace(\"Karuna\",\"Kammy\")\n",
    "d"
   ]
  },
  {
   "cell_type": "code",
   "execution_count": 47,
   "id": "c476848d",
   "metadata": {},
   "outputs": [
    {
     "data": {
      "text/plain": [
       "'thwas is Karuna and this is python session no.2 to you'"
      ]
     },
     "execution_count": 47,
     "metadata": {},
     "output_type": "execute_result"
    }
   ],
   "source": [
    "d1 = b.replace('is','was',1)\n",
    "d1"
   ]
  },
  {
   "cell_type": "code",
   "execution_count": 48,
   "id": "30382239",
   "metadata": {},
   "outputs": [
    {
     "data": {
      "text/plain": [
       "'Line1-abcde Line2-abc \\nLine4-abcd'"
      ]
     },
     "execution_count": 48,
     "metadata": {},
     "output_type": "execute_result"
    }
   ],
   "source": [
    "split = \"Line1-abcde Line2-abc \\nLine4-abcd\"  \n",
    "split"
   ]
  },
  {
   "cell_type": "code",
   "execution_count": 49,
   "id": "85d8018b",
   "metadata": {},
   "outputs": [
    {
     "name": "stdout",
     "output_type": "stream",
     "text": [
      "['Line1-abcde', 'Line2-abc', 'Line4-abcd']\n"
     ]
    }
   ],
   "source": [
    "print(split.split()) #here spaces are replace with comma, i.e split is done"
   ]
  },
  {
   "cell_type": "code",
   "execution_count": 50,
   "id": "83b314fb",
   "metadata": {},
   "outputs": [
    {
     "name": "stdout",
     "output_type": "stream",
     "text": [
      "['Line1', 'abcde Line2', 'abc \\nLine4', 'abcd']\n"
     ]
    }
   ],
   "source": [
    "print(split.split('-')) # here  split is done at'-' "
   ]
  },
  {
   "cell_type": "code",
   "execution_count": 51,
   "id": "8c662843",
   "metadata": {},
   "outputs": [
    {
     "name": "stdout",
     "output_type": "stream",
     "text": [
      "['Line1-abcde Line2-abc ', 'Line4-abcd']\n"
     ]
    }
   ],
   "source": [
    "print(split.split('\\n')) # here  split is done at ''\\n'"
   ]
  },
  {
   "cell_type": "markdown",
   "id": "41ab95b4",
   "metadata": {},
   "source": [
    "# Lists"
   ]
  },
  {
   "cell_type": "markdown",
   "id": "1f96dfc5",
   "metadata": {},
   "source": [
    "Ordered sequence of objects, it can be an integer, a string, a complx, a boolean, a float."
   ]
  },
  {
   "cell_type": "code",
   "execution_count": 56,
   "id": "835e9d7f",
   "metadata": {},
   "outputs": [],
   "source": [
    "list1 = [\"python\", 23, 0.3, True, 3+3j,[1,2,3]]"
   ]
  },
  {
   "cell_type": "code",
   "execution_count": 57,
   "id": "ca85910b",
   "metadata": {},
   "outputs": [
    {
     "data": {
      "text/plain": [
       "'python'"
      ]
     },
     "execution_count": 57,
     "metadata": {},
     "output_type": "execute_result"
    }
   ],
   "source": [
    "list1[0]"
   ]
  },
  {
   "cell_type": "code",
   "execution_count": 58,
   "id": "3159d263",
   "metadata": {},
   "outputs": [
    {
     "data": {
      "text/plain": [
       "0.3"
      ]
     },
     "execution_count": 58,
     "metadata": {},
     "output_type": "execute_result"
    }
   ],
   "source": [
    "list1[2]"
   ]
  },
  {
   "cell_type": "code",
   "execution_count": 59,
   "id": "ce17de1c",
   "metadata": {},
   "outputs": [
    {
     "data": {
      "text/plain": [
       "[1, 2, 3]"
      ]
     },
     "execution_count": 59,
     "metadata": {},
     "output_type": "execute_result"
    }
   ],
   "source": [
    "list1[5]"
   ]
  },
  {
   "cell_type": "markdown",
   "id": "43f2f1ea",
   "metadata": {},
   "source": [
    "#### append in list"
   ]
  },
  {
   "cell_type": "code",
   "execution_count": 60,
   "id": "36a815d9",
   "metadata": {},
   "outputs": [],
   "source": [
    "list1[5][2]=2"
   ]
  },
  {
   "cell_type": "code",
   "execution_count": 61,
   "id": "dee410e9",
   "metadata": {},
   "outputs": [
    {
     "data": {
      "text/plain": [
       "['python', 23, 0.3, True, (3+3j), [1, 2, 2]]"
      ]
     },
     "execution_count": 61,
     "metadata": {},
     "output_type": "execute_result"
    }
   ],
   "source": [
    "list1"
   ]
  },
  {
   "cell_type": "code",
   "execution_count": 62,
   "id": "b854dee7",
   "metadata": {},
   "outputs": [
    {
     "data": {
      "text/plain": [
       "2"
      ]
     },
     "execution_count": 62,
     "metadata": {},
     "output_type": "execute_result"
    }
   ],
   "source": [
    "list1[5][2] # here 5th element has a different lit'[1,2,3], this list has its own index, i.e 0,1,2"
   ]
  },
  {
   "cell_type": "code",
   "execution_count": 63,
   "id": "2e33d773",
   "metadata": {},
   "outputs": [
    {
     "data": {
      "text/plain": [
       "['python', 23, 0.3, True, (3+3j), [1, 2, 2], 222]"
      ]
     },
     "execution_count": 63,
     "metadata": {},
     "output_type": "execute_result"
    }
   ],
   "source": [
    "list1.append(222)\n",
    "list1"
   ]
  },
  {
   "cell_type": "code",
   "execution_count": 64,
   "id": "ed452308",
   "metadata": {},
   "outputs": [
    {
     "data": {
      "text/plain": [
       "['python', 23, 0.3, True, (3+3j), [1, 2, 2], 222, [21, 22]]"
      ]
     },
     "execution_count": 64,
     "metadata": {},
     "output_type": "execute_result"
    }
   ],
   "source": [
    "list1.append([21,22])\n",
    "list1"
   ]
  },
  {
   "cell_type": "markdown",
   "id": "501a0347",
   "metadata": {},
   "source": [
    "#### pop function is used to remove a value from a list"
   ]
  },
  {
   "cell_type": "code",
   "execution_count": 65,
   "id": "c6fea278",
   "metadata": {},
   "outputs": [
    {
     "data": {
      "text/plain": [
       "['python', 23, 0.3, True, (3+3j), [1, 2, 2], 222]"
      ]
     },
     "execution_count": 65,
     "metadata": {},
     "output_type": "execute_result"
    }
   ],
   "source": [
    "list1.pop() # last value is removed\n",
    "list1"
   ]
  },
  {
   "cell_type": "code",
   "execution_count": 66,
   "id": "0eeefda0",
   "metadata": {},
   "outputs": [
    {
     "data": {
      "text/plain": [
       "['python', 23, 0.3, True, [1, 2, 2], 222]"
      ]
     },
     "execution_count": 66,
     "metadata": {},
     "output_type": "execute_result"
    }
   ],
   "source": [
    "list1.pop(4) # 4th element is popped out\n",
    "list1"
   ]
  },
  {
   "cell_type": "markdown",
   "id": "4254677f",
   "metadata": {},
   "source": [
    "#### insert"
   ]
  },
  {
   "cell_type": "code",
   "execution_count": 67,
   "id": "d0c0e470",
   "metadata": {
    "scrolled": true
   },
   "outputs": [
    {
     "data": {
      "text/plain": [
       "['python', 23, 0.3, 2009, True, [1, 2, 2], 222]"
      ]
     },
     "execution_count": 67,
     "metadata": {},
     "output_type": "execute_result"
    }
   ],
   "source": [
    "list1.insert(3,2009)\n",
    "list1"
   ]
  },
  {
   "cell_type": "code",
   "execution_count": 68,
   "id": "dc729c52",
   "metadata": {},
   "outputs": [
    {
     "data": {
      "text/plain": [
       "['python', 23, 0.3, 2009, 2010, True, [1, 2, 2], 222]"
      ]
     },
     "execution_count": 68,
     "metadata": {},
     "output_type": "execute_result"
    }
   ],
   "source": [
    "list1.insert(4,2010)\n",
    "list1"
   ]
  },
  {
   "cell_type": "markdown",
   "id": "562ed4a5",
   "metadata": {},
   "source": [
    "#### append"
   ]
  },
  {
   "cell_type": "code",
   "execution_count": 69,
   "id": "4e593854",
   "metadata": {},
   "outputs": [
    {
     "name": "stdout",
     "output_type": "stream",
     "text": [
      "['python', 23, 0.3, 2009, 2010, True, [1, 2, 2], 222, 'Karuna1']\n"
     ]
    }
   ],
   "source": [
    "list1.append(\"Karuna1\") #adds the element at the end\n",
    "print(list1)"
   ]
  },
  {
   "cell_type": "markdown",
   "id": "41f8e105",
   "metadata": {},
   "source": [
    "#### extend"
   ]
  },
  {
   "cell_type": "code",
   "execution_count": 70,
   "id": "9f555559",
   "metadata": {
    "scrolled": true
   },
   "outputs": [
    {
     "name": "stdout",
     "output_type": "stream",
     "text": [
      "['python', 23, 0.3, 2009, 2010, True, [1, 2, 2], 222, 'Karuna1', 'K', 'a', 'r', 'u', 'n', 'a', '2']\n"
     ]
    }
   ],
   "source": [
    "list1.extend(\"Karuna2\") # here element is added whole string as single item\n",
    "print(list1)"
   ]
  },
  {
   "cell_type": "markdown",
   "id": "12d15fd2",
   "metadata": {},
   "source": [
    "#### reverse"
   ]
  },
  {
   "cell_type": "code",
   "execution_count": 71,
   "id": "b24aa9a0",
   "metadata": {},
   "outputs": [
    {
     "name": "stdout",
     "output_type": "stream",
     "text": [
      "None\n"
     ]
    },
    {
     "data": {
      "text/plain": [
       "['2',\n",
       " 'a',\n",
       " 'n',\n",
       " 'u',\n",
       " 'r',\n",
       " 'a',\n",
       " 'K',\n",
       " 'Karuna1',\n",
       " 222,\n",
       " [1, 2, 2],\n",
       " True,\n",
       " 2010,\n",
       " 2009,\n",
       " 0.3,\n",
       " 23,\n",
       " 'python']"
      ]
     },
     "execution_count": 71,
     "metadata": {},
     "output_type": "execute_result"
    }
   ],
   "source": [
    "print(list1.reverse())\n",
    "list1"
   ]
  },
  {
   "cell_type": "code",
   "execution_count": 72,
   "id": "ea838d2f",
   "metadata": {},
   "outputs": [
    {
     "name": "stdout",
     "output_type": "stream",
     "text": [
      "1\n"
     ]
    }
   ],
   "source": [
    "print(list1.count(23))"
   ]
  },
  {
   "cell_type": "code",
   "execution_count": 73,
   "id": "8cf41963",
   "metadata": {},
   "outputs": [
    {
     "name": "stdout",
     "output_type": "stream",
     "text": [
      "1\n"
     ]
    }
   ],
   "source": [
    "print(list1.count(\"python\"))"
   ]
  },
  {
   "cell_type": "code",
   "execution_count": 74,
   "id": "b52c65bb",
   "metadata": {},
   "outputs": [
    {
     "name": "stdout",
     "output_type": "stream",
     "text": [
      "1\n"
     ]
    }
   ],
   "source": [
    "print(list1.count([1,2,2]))"
   ]
  },
  {
   "cell_type": "code",
   "execution_count": 75,
   "id": "c354a1d5",
   "metadata": {},
   "outputs": [
    {
     "name": "stdout",
     "output_type": "stream",
     "text": [
      "[3, 2, 1]\n"
     ]
    }
   ],
   "source": [
    "list2 = list1[6]\n",
    "list3 = [3,2,1]\n",
    "print(list3)"
   ]
  },
  {
   "cell_type": "code",
   "execution_count": 76,
   "id": "d7343736",
   "metadata": {},
   "outputs": [
    {
     "data": {
      "text/plain": [
       "[3, 2, 1]"
      ]
     },
     "execution_count": 76,
     "metadata": {},
     "output_type": "execute_result"
    }
   ],
   "source": [
    "list3"
   ]
  },
  {
   "cell_type": "code",
   "execution_count": 79,
   "id": "57fc2fa6",
   "metadata": {},
   "outputs": [
    {
     "data": {
      "text/plain": [
       "str"
      ]
     },
     "execution_count": 79,
     "metadata": {},
     "output_type": "execute_result"
    }
   ],
   "source": [
    "type(list2)"
   ]
  },
  {
   "cell_type": "code",
   "execution_count": 80,
   "id": "f61f4ae9",
   "metadata": {},
   "outputs": [
    {
     "data": {
      "text/plain": [
       "list"
      ]
     },
     "execution_count": 80,
     "metadata": {},
     "output_type": "execute_result"
    }
   ],
   "source": [
    "type(list3)"
   ]
  },
  {
   "cell_type": "code",
   "execution_count": 77,
   "id": "5eeedd08",
   "metadata": {},
   "outputs": [
    {
     "ename": "TypeError",
     "evalue": "can only concatenate str (not \"list\") to str",
     "output_type": "error",
     "traceback": [
      "\u001b[1;31m---------------------------------------------------------------------------\u001b[0m",
      "\u001b[1;31mTypeError\u001b[0m                                 Traceback (most recent call last)",
      "\u001b[1;32m<ipython-input-77-bc4397b5bae3>\u001b[0m in \u001b[0;36m<module>\u001b[1;34m\u001b[0m\n\u001b[1;32m----> 1\u001b[1;33m \u001b[0mlist4\u001b[0m \u001b[1;33m=\u001b[0m \u001b[0mlist2\u001b[0m\u001b[1;33m+\u001b[0m\u001b[0mlist3\u001b[0m \u001b[1;31m#same data type can only be added\u001b[0m\u001b[1;33m\u001b[0m\u001b[1;33m\u001b[0m\u001b[0m\n\u001b[0m\u001b[0;32m      2\u001b[0m \u001b[0mprint\u001b[0m\u001b[1;33m(\u001b[0m\u001b[0mlist4\u001b[0m\u001b[1;33m)\u001b[0m\u001b[1;33m\u001b[0m\u001b[1;33m\u001b[0m\u001b[0m\n",
      "\u001b[1;31mTypeError\u001b[0m: can only concatenate str (not \"list\") to str"
     ]
    }
   ],
   "source": [
    "list4 = list2+list3 #same data type can only be added\n",
    "print(list4)"
   ]
  },
  {
   "cell_type": "code",
   "execution_count": 81,
   "id": "93c875e7",
   "metadata": {},
   "outputs": [
    {
     "data": {
      "text/plain": [
       "[3, 2, 1, 3, 2, 1, 3, 2, 1]"
      ]
     },
     "execution_count": 81,
     "metadata": {},
     "output_type": "execute_result"
    }
   ],
   "source": [
    "list5 = list3*3  # here all the elements are created 3times\n",
    "list5"
   ]
  },
  {
   "cell_type": "markdown",
   "id": "1d5a02ad",
   "metadata": {},
   "source": [
    "### Tuple"
   ]
  },
  {
   "cell_type": "code",
   "execution_count": 91,
   "id": "701ffa9c",
   "metadata": {},
   "outputs": [],
   "source": [
    "tup = (\"python\", 23, 0.3, True, 3+3j,[1,2,3]) # values cannot be changed in tuple however we can change in list, only difference."
   ]
  },
  {
   "cell_type": "code",
   "execution_count": 83,
   "id": "9fa7d051",
   "metadata": {},
   "outputs": [
    {
     "data": {
      "text/plain": [
       "(1, 23, 4, 'p', 'y', 't')"
      ]
     },
     "execution_count": 83,
     "metadata": {},
     "output_type": "execute_result"
    }
   ],
   "source": [
    "tup1 = (1,23,4)\n",
    "tup2 = (\"p\",\"y\",\"t\")\n",
    "tup3 = tup1+tup2\n",
    "tup3"
   ]
  },
  {
   "cell_type": "code",
   "execution_count": 84,
   "id": "c4f4d007",
   "metadata": {},
   "outputs": [
    {
     "data": {
      "text/plain": [
       "'p'"
      ]
     },
     "execution_count": 84,
     "metadata": {},
     "output_type": "execute_result"
    }
   ],
   "source": [
    "tup2[0]"
   ]
  },
  {
   "cell_type": "code",
   "execution_count": 92,
   "id": "c14df7d8",
   "metadata": {},
   "outputs": [],
   "source": [
    "del(tup)"
   ]
  },
  {
   "cell_type": "code",
   "execution_count": 93,
   "id": "f3e73bf8",
   "metadata": {},
   "outputs": [
    {
     "ename": "NameError",
     "evalue": "name 'tup' is not defined",
     "output_type": "error",
     "traceback": [
      "\u001b[1;31m---------------------------------------------------------------------------\u001b[0m",
      "\u001b[1;31mNameError\u001b[0m                                 Traceback (most recent call last)",
      "\u001b[1;32m<ipython-input-93-95b80b2375ef>\u001b[0m in \u001b[0;36m<module>\u001b[1;34m\u001b[0m\n\u001b[1;32m----> 1\u001b[1;33m \u001b[0mtup\u001b[0m\u001b[1;33m\u001b[0m\u001b[1;33m\u001b[0m\u001b[0m\n\u001b[0m",
      "\u001b[1;31mNameError\u001b[0m: name 'tup' is not defined"
     ]
    }
   ],
   "source": [
    "tup # tup is deleted"
   ]
  },
  {
   "cell_type": "markdown",
   "id": "37994a5c",
   "metadata": {},
   "source": [
    "### Dictionaries"
   ]
  },
  {
   "cell_type": "code",
   "execution_count": 94,
   "id": "e288c81e",
   "metadata": {},
   "outputs": [],
   "source": [
    "dict1 = {\"Key\":\"Value\"} # List =[], Tuple =(), Dictionary ={\"key\" : \"value\"}"
   ]
  },
  {
   "cell_type": "code",
   "execution_count": 95,
   "id": "3ceba190",
   "metadata": {},
   "outputs": [],
   "source": [
    "name = { \"Weight\":80, \"Height\":5.10}"
   ]
  },
  {
   "cell_type": "code",
   "execution_count": 96,
   "id": "6f2582a4",
   "metadata": {},
   "outputs": [
    {
     "name": "stdout",
     "output_type": "stream",
     "text": [
      "80\n"
     ]
    }
   ],
   "source": [
    "print(name[\"Weight\"])"
   ]
  },
  {
   "cell_type": "code",
   "execution_count": 97,
   "id": "e41fe816",
   "metadata": {},
   "outputs": [
    {
     "name": "stdout",
     "output_type": "stream",
     "text": [
      "5.1\n"
     ]
    }
   ],
   "source": [
    "print(name[\"Height\"])"
   ]
  },
  {
   "cell_type": "markdown",
   "id": "05aa2e3c",
   "metadata": {},
   "source": [
    "#### Add new element"
   ]
  },
  {
   "cell_type": "code",
   "execution_count": 98,
   "id": "0bba3b83",
   "metadata": {},
   "outputs": [
    {
     "data": {
      "text/plain": [
       "{'Weight': 80, 'Height': 5.1, 'bmi': 22}"
      ]
     },
     "execution_count": 98,
     "metadata": {},
     "output_type": "execute_result"
    }
   ],
   "source": [
    "name[\"bmi\"]=22\n",
    "name"
   ]
  },
  {
   "cell_type": "markdown",
   "id": "9864b902",
   "metadata": {},
   "source": [
    "#### different ways to print values in dict"
   ]
  },
  {
   "cell_type": "code",
   "execution_count": 99,
   "id": "f39857a9",
   "metadata": {},
   "outputs": [
    {
     "data": {
      "text/plain": [
       "dict_keys(['Weight', 'Height', 'bmi'])"
      ]
     },
     "execution_count": 99,
     "metadata": {},
     "output_type": "execute_result"
    }
   ],
   "source": [
    "name.keys()"
   ]
  },
  {
   "cell_type": "code",
   "execution_count": 100,
   "id": "c93a2e61",
   "metadata": {},
   "outputs": [
    {
     "data": {
      "text/plain": [
       "dict_values([80, 5.1, 22])"
      ]
     },
     "execution_count": 100,
     "metadata": {},
     "output_type": "execute_result"
    }
   ],
   "source": [
    "name.values()"
   ]
  },
  {
   "cell_type": "code",
   "execution_count": 101,
   "id": "9c463fb5",
   "metadata": {},
   "outputs": [
    {
     "data": {
      "text/plain": [
       "dict_items([('Weight', 80), ('Height', 5.1), ('bmi', 22)])"
      ]
     },
     "execution_count": 101,
     "metadata": {},
     "output_type": "execute_result"
    }
   ],
   "source": [
    "name.items()"
   ]
  },
  {
   "cell_type": "markdown",
   "id": "0b5cc6e2",
   "metadata": {},
   "source": [
    "#### to delete the items in dictionaries"
   ]
  },
  {
   "cell_type": "code",
   "execution_count": 102,
   "id": "79404ee0",
   "metadata": {},
   "outputs": [
    {
     "data": {
      "text/plain": [
       "{}"
      ]
     },
     "execution_count": 102,
     "metadata": {},
     "output_type": "execute_result"
    }
   ],
   "source": [
    "dict1.clear()\n",
    "dict1"
   ]
  },
  {
   "cell_type": "markdown",
   "id": "2218fe0e",
   "metadata": {},
   "source": [
    "#### delete in dictionary"
   ]
  },
  {
   "cell_type": "code",
   "execution_count": 103,
   "id": "c11d39c4",
   "metadata": {},
   "outputs": [],
   "source": [
    "del(name[\"bmi\"])"
   ]
  },
  {
   "cell_type": "code",
   "execution_count": 104,
   "id": "84a9f0d0",
   "metadata": {},
   "outputs": [
    {
     "data": {
      "text/plain": [
       "{'Weight': 80, 'Height': 5.1}"
      ]
     },
     "execution_count": 104,
     "metadata": {},
     "output_type": "execute_result"
    }
   ],
   "source": [
    "name # bmi is deleted"
   ]
  }
 ],
 "metadata": {
  "kernelspec": {
   "display_name": "Python 3",
   "language": "python",
   "name": "python3"
  },
  "language_info": {
   "codemirror_mode": {
    "name": "ipython",
    "version": 3
   },
   "file_extension": ".py",
   "mimetype": "text/x-python",
   "name": "python",
   "nbconvert_exporter": "python",
   "pygments_lexer": "ipython3",
   "version": "3.8.5"
  }
 },
 "nbformat": 4,
 "nbformat_minor": 5
}
